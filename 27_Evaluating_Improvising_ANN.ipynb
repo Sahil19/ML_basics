{
 "cells": [
  {
   "cell_type": "code",
   "execution_count": 1,
   "metadata": {},
   "outputs": [],
   "source": [
    "import numpy as np\n",
    "import pandas as pd\n",
    "import matplotlib.pyplot as plt\n",
    "\n",
    "dataset=pd.read_csv(\"Churn_Modelling.csv\")"
   ]
  },
  {
   "cell_type": "code",
   "execution_count": 2,
   "metadata": {},
   "outputs": [],
   "source": [
    "X=dataset.iloc[:,3:13].values\n",
    "Y=dataset.iloc[:,13].values"
   ]
  },
  {
   "cell_type": "code",
   "execution_count": 3,
   "metadata": {},
   "outputs": [],
   "source": [
    "from sklearn import preprocessing\n",
    "le_X_1=preprocessing.LabelEncoder()\n",
    "le_X_2=preprocessing.LabelEncoder()\n",
    "X[:,1]=le_X_1.fit_transform(X[:,1])\n",
    "X[:,2]=le_X_2.fit_transform(X[:,2])"
   ]
  },
  {
   "cell_type": "code",
   "execution_count": 4,
   "metadata": {},
   "outputs": [],
   "source": [
    "#for dummy encoding only on dummy with three values and not for two\n",
    "from sklearn.preprocessing import OneHotEncoder\n",
    "ohe_1=OneHotEncoder(categorical_features = [1])\n",
    "X=ohe_1.fit_transform(X).toarray()\n",
    "X=X[:,1:]"
   ]
  },
  {
   "cell_type": "code",
   "execution_count": 5,
   "metadata": {},
   "outputs": [
    {
     "name": "stdout",
     "output_type": "stream",
     "text": [
      "[[0.0000000e+00 1.0000000e+00 6.6700000e+02 ... 1.0000000e+00\n",
      "  0.0000000e+00 1.6383064e+05]\n",
      " [1.0000000e+00 0.0000000e+00 4.2700000e+02 ... 1.0000000e+00\n",
      "  1.0000000e+00 5.7098000e+04]\n",
      " [0.0000000e+00 0.0000000e+00 5.3500000e+02 ... 1.0000000e+00\n",
      "  0.0000000e+00 1.8563076e+05]\n",
      " ...\n",
      " [0.0000000e+00 0.0000000e+00 7.3800000e+02 ... 1.0000000e+00\n",
      "  0.0000000e+00 1.8142987e+05]\n",
      " [0.0000000e+00 1.0000000e+00 5.9000000e+02 ... 1.0000000e+00\n",
      "  1.0000000e+00 1.4875016e+05]\n",
      " [1.0000000e+00 0.0000000e+00 6.2300000e+02 ... 1.0000000e+00\n",
      "  0.0000000e+00 1.1885526e+05]]\n"
     ]
    }
   ],
   "source": [
    "from sklearn.model_selection import train_test_split\n",
    "X_train,X_test,Y_train,Y_test=train_test_split(X,Y,test_size=0.20,random_state=0)\n",
    "print(X_train)"
   ]
  },
  {
   "cell_type": "code",
   "execution_count": 6,
   "metadata": {},
   "outputs": [],
   "source": [
    "from sklearn.preprocessing import StandardScaler\n",
    "sc=StandardScaler()\n",
    "X_train=sc.fit_transform(X_train)\n",
    "X_test=sc.transform(X_test)"
   ]
  },
  {
   "cell_type": "code",
   "execution_count": 7,
   "metadata": {},
   "outputs": [
    {
     "name": "stderr",
     "output_type": "stream",
     "text": [
      "C:\\Users\\Sahil\\Anaconda3\\lib\\site-packages\\h5py\\__init__.py:36: FutureWarning: Conversion of the second argument of issubdtype from `float` to `np.floating` is deprecated. In future, it will be treated as `np.float64 == np.dtype(float).type`.\n",
      "  from ._conv import register_converters as _register_converters\n",
      "Using TensorFlow backend.\n"
     ]
    }
   ],
   "source": [
    "import keras\n",
    "from keras.models import Sequential\n",
    "from keras.layers import Dense\n",
    "from keras.wrappers.scikit_learn import KerasClassifier\n",
    "from sklearn.model_selection import cross_val_score\n",
    "from keras.layers import Dropout"
   ]
  },
  {
   "cell_type": "code",
   "execution_count": 8,
   "metadata": {},
   "outputs": [],
   "source": [
    "def build_classifier():\n",
    "    classifier = Sequential()\n",
    "    classifier.add(Dense(output_dim=6,init = 'uniform', activation = 'relu', input_dim=11))\n",
    "    classifier.add(Dropout(p=0.1))\n",
    "    classifier.add(Dense(output_dim=6,init = 'uniform', activation = 'relu'))\n",
    "    classifier.add(Dropout(p=0.1))\n",
    "    classifier.add(Dense(output_dim=1,init = 'uniform', activation = 'sigmoid'))\n",
    "    classifier.compile(optimizer = 'adam', loss = 'binary_crossentropy', metrics = ['accuracy'])\n",
    "    return classifier\n"
   ]
  },
  {
   "cell_type": "code",
   "execution_count": null,
   "metadata": {},
   "outputs": [],
   "source": [
    "classifier = KerasClassifier(build_fn = build_classifier, batch_size=25,nb_epoch = 5)\n",
    "accuracies=cross_val_score(estimator = classifier,X=X_train,y=Y_train,cv=10,n_jobs=-1)"
   ]
  },
  {
   "cell_type": "code",
   "execution_count": null,
   "metadata": {},
   "outputs": [],
   "source": [
    "#tuning the ann\n",
    "from keras.models import Sequential\n",
    "from keras.layers import Dense\n",
    "from keras.wrappers.scikit_learn import KerasClassifier\n",
    "from sklearn.grid_searchcv import GridSearchCV\n",
    "from keras.layers import Dropout\n",
    "\n",
    "def build_classifier(optimizer):\n",
    "    classifier = Sequential()\n",
    "    classifier.add(Dense(output_dim=6,init = 'uniform', activation = 'relu', input_dim=11))\n",
    "    classifier.add(Dropout(p=0.1))\n",
    "    classifier.add(Dense(output_dim=6,init = 'uniform', activation = 'relu'))\n",
    "    classifier.add(Dropout(p=0.1))\n",
    "    classifier.add(Dense(output_dim=1,init = 'uniform', activation = 'sigmoid'))\n",
    "    classifier.compile(optimizer = optimizer, loss = 'binary_crossentropy', metrics = ['accuracy'])\n",
    "    return classifier\n"
   ]
  },
  {
   "cell_type": "code",
   "execution_count": null,
   "metadata": {},
   "outputs": [],
   "source": [
    "classifier = KerasClassifier(build_fn=build_classifier)\n",
    "parameters = {'batch_size':[25,32],\n",
    "             'nb_epoch':[100,500],\n",
    "             'optimizer':['adam','rmsdrop']}\n",
    "grid_search=GridSearchCV(estimator= classifier,param_grid=parameters,scoring='accuracy',cv='10')\n",
    "grid_search=grid_search.fit(X_train,Y_train)\n",
    "\n",
    "best_parameters= grid_search.best_params_\n",
    "best_accuracy= grid_search.best_score_"
   ]
  }
 ],
 "metadata": {
  "kernelspec": {
   "display_name": "Python 3",
   "language": "python",
   "name": "python3"
  },
  "language_info": {
   "codemirror_mode": {
    "name": "ipython",
    "version": 3
   },
   "file_extension": ".py",
   "mimetype": "text/x-python",
   "name": "python",
   "nbconvert_exporter": "python",
   "pygments_lexer": "ipython3",
   "version": "3.6.5"
  }
 },
 "nbformat": 4,
 "nbformat_minor": 2
}
